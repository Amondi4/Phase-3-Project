{
 "cells": [
  {
   "cell_type": "markdown",
   "metadata": {},
   "source": [
    "# **Business Understanding**\n",
    "SyriaTel, a leading telecommunications company, faces a significant challenge in retaining its customer base. Customer churn, or the loss of customers to competitors, can have a substantial impact on the company's revenue and profitability. Acquiring new customers is generally more expensive than retaining existing ones, making customer retention a critical aspect of SyriaTel's business strategy.\n",
    "\n",
    "In the highly competitive telecommunications market, customers have numerous options and can easily switch to other service providers if they are dissatisfied with the quality of service, pricing, or other factors. Identifying customers at risk of churning and taking proactive measures to address their concerns can significantly improve customer loyalty and reduce the potential revenue loss associated with churn.\n",
    "\n",
    "# **Data Understanding**\n",
    "\n",
    "The dataset \"Churn in Telecoms Dataset\" is provided by Kaggle and contains information about customer churn in the telecommunications industry. Customer churn refers to the situation when customers stop doing business with a company, in this case, a telecommunications provider. Understanding the factors that contribute to customer churn is crucial for companies to develop effective retention strategies and minimize revenue loss.\n",
    "\n",
    "**Data Source**\n",
    "The dataset was originally shared on Kaggle by the user \"becksddf\" and is available at the following link: https://www.kaggle.com/becksddf/churn-in-telecoms-dataset\n",
    "\n",
    "**Data Description**\n",
    "\n",
    "The dataset contains information about customers of a telecommunications company, including their account details, usage patterns, and churn status. The dataset consists of the following columns:\n",
    "\n",
    "state: The state where the customer resides.\n",
    "account_length: The number of months the customer has been with the company.\n",
    "area_code: The area code of the customer's phone number.\n",
    "phone_number: The customer's phone number.\n",
    "international_plan: Indicates whether the customer has an international calling plan (Yes or No).\n",
    "voice_mail_plan: Indicates whether the customer has a voice mail plan (Yes or No).\n",
    "number_vmail_messages: The number of voice mail messages the customer has received.\n",
    "total_day_minutes: The total number of minutes the customer has spent on calls during the day.\n",
    "total_day_calls: The total number of calls the customer has made during the day.\n",
    "total_day_charge: The total charge for the customer's day calls.\n",
    "total_eve_minutes: The total number of minutes the customer has spent on calls during the evening.\n",
    "total_eve_calls: The total number of calls the customer has made during the evening.\n",
    "total_eve_charge: The total charge for the customer's evening calls.\n",
    "total_night_minutes: The total number of minutes the customer has spent on calls during the night.\n",
    "total_night_calls: The total number of calls the customer has made during the night.\n",
    "total_night_charge: The total charge for the customer's night calls.\n",
    "total_intl_minutes: The total number of minutes the customer has spent on international calls.\n",
    "total_intl_calls: The total number of international calls the customer has made.\n",
    "total_intl_charge: The total charge for the customer's international calls.\n",
    "customer_service_calls: The number of customer service calls the customer has made.\n",
    "churn: Indicates whether the customer has churned (TRUE or FALSE )."
   ]
  }
 ],
 "metadata": {
  "language_info": {
   "name": "python"
  }
 },
 "nbformat": 4,
 "nbformat_minor": 2
}
